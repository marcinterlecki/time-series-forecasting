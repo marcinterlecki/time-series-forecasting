{
 "cells": [
  {
   "cell_type": "code",
   "execution_count": 1,
   "metadata": {},
   "outputs": [],
   "source": [
    "import pandas as pd\n",
    "import matplotlib.pyplot as plt\n",
    "import seaborn as sns\n",
    "from datetime import datetime\n",
    "from statsmodels.stats.outliers_influence import variance_inflation_factor \n",
    "from scipy.stats import shapiro\n",
    "import statsmodels.api as sm\n",
    "import numpy as np\n"
   ]
  },
  {
   "cell_type": "markdown",
   "metadata": {},
   "source": [
    "## Wczytanie danych"
   ]
  },
  {
   "cell_type": "code",
   "execution_count": 2,
   "metadata": {},
   "outputs": [
    {
     "name": "stdout",
     "output_type": "stream",
     "text": [
      "      DATA_W    ILOSC  articles  customers\n",
      "0 2022-01-03    7.072         7          3\n",
      "1 2022-01-04  230.061       415         35\n",
      "2 2022-01-05  115.141       411         37\n",
      "3 2022-01-10  148.733       434         47\n",
      "4 2022-01-11  505.648       896         53\n",
      "        date    ilosc  articles  customers\n",
      "0 2022-01-03    7.072         7          3\n",
      "1 2022-01-04  230.061       415         35\n",
      "2 2022-01-05  115.141       411         37\n",
      "3 2022-01-10  148.733       434         47\n",
      "4 2022-01-11  505.648       896         53\n"
     ]
    }
   ],
   "source": [
    "# Wczytaj dane z pliku CSV\n",
    "predata = pd.read_csv('Prognoza.csv', sep=';' ,parse_dates=['DATA_W'])\n",
    "\n",
    "# Pogrupuj dane według kolumny DATA_W i zastosuj odpowiednie agregacje tygodniowe \n",
    "data = predata.groupby(['DATA_W']).agg({\n",
    "    'ILOSC': 'sum',\n",
    "    'ArticleID': 'count',\n",
    "    'CustomerID': 'nunique'\n",
    "}).rename(columns={\n",
    "    'ArticleID': 'articles',\n",
    "    'CustomerID': 'customers'\n",
    "}).reset_index()\n",
    "# Wyświetl pierwsze kilka wierszy przetworzonych danych\n",
    "print(data.head())\n",
    "\n",
    "# Zmiana wszystkich nazw kolumn na małe litery\n",
    "data.columns = map(str.lower, data.columns)\n",
    "\n",
    "# Zmiana nazwy kolumny 'data_w' na 'date'\n",
    "data.rename(columns={'data_w': 'date'}, inplace=True)\n",
    "\n",
    "# Wyświetl pierwsze kilka wierszy przetworzonych danych\n",
    "print(data.head())\n"
   ]
  },
  {
   "cell_type": "code",
   "execution_count": 3,
   "metadata": {},
   "outputs": [
    {
     "data": {
      "text/html": [
       "<div>\n",
       "<style scoped>\n",
       "    .dataframe tbody tr th:only-of-type {\n",
       "        vertical-align: middle;\n",
       "    }\n",
       "\n",
       "    .dataframe tbody tr th {\n",
       "        vertical-align: top;\n",
       "    }\n",
       "\n",
       "    .dataframe thead th {\n",
       "        text-align: right;\n",
       "    }\n",
       "</style>\n",
       "<table border=\"1\" class=\"dataframe\">\n",
       "  <thead>\n",
       "    <tr style=\"text-align: right;\">\n",
       "      <th></th>\n",
       "      <th>date</th>\n",
       "      <th>ilosc</th>\n",
       "      <th>articles</th>\n",
       "      <th>customers</th>\n",
       "    </tr>\n",
       "  </thead>\n",
       "  <tbody>\n",
       "    <tr>\n",
       "      <th>count</th>\n",
       "      <td>614</td>\n",
       "      <td>614.000000</td>\n",
       "      <td>614.000000</td>\n",
       "      <td>614.000000</td>\n",
       "    </tr>\n",
       "    <tr>\n",
       "      <th>mean</th>\n",
       "      <td>2023-03-24 21:36:56.286644992</td>\n",
       "      <td>638.307425</td>\n",
       "      <td>823.167752</td>\n",
       "      <td>59.705212</td>\n",
       "    </tr>\n",
       "    <tr>\n",
       "      <th>min</th>\n",
       "      <td>2022-01-03 00:00:00</td>\n",
       "      <td>-74.035000</td>\n",
       "      <td>1.000000</td>\n",
       "      <td>1.000000</td>\n",
       "    </tr>\n",
       "    <tr>\n",
       "      <th>25%</th>\n",
       "      <td>2022-08-13 00:00:00</td>\n",
       "      <td>181.441000</td>\n",
       "      <td>488.500000</td>\n",
       "      <td>52.000000</td>\n",
       "    </tr>\n",
       "    <tr>\n",
       "      <th>50%</th>\n",
       "      <td>2023-03-22 12:00:00</td>\n",
       "      <td>259.233000</td>\n",
       "      <td>636.500000</td>\n",
       "      <td>59.000000</td>\n",
       "    </tr>\n",
       "    <tr>\n",
       "      <th>75%</th>\n",
       "      <td>2023-11-01 12:00:00</td>\n",
       "      <td>556.146500</td>\n",
       "      <td>862.750000</td>\n",
       "      <td>67.000000</td>\n",
       "    </tr>\n",
       "    <tr>\n",
       "      <th>max</th>\n",
       "      <td>2024-06-18 00:00:00</td>\n",
       "      <td>7589.803000</td>\n",
       "      <td>4577.000000</td>\n",
       "      <td>124.000000</td>\n",
       "    </tr>\n",
       "    <tr>\n",
       "      <th>std</th>\n",
       "      <td>NaN</td>\n",
       "      <td>1023.765432</td>\n",
       "      <td>634.598299</td>\n",
       "      <td>16.194356</td>\n",
       "    </tr>\n",
       "  </tbody>\n",
       "</table>\n",
       "</div>"
      ],
      "text/plain": [
       "                                date        ilosc     articles   customers\n",
       "count                            614   614.000000   614.000000  614.000000\n",
       "mean   2023-03-24 21:36:56.286644992   638.307425   823.167752   59.705212\n",
       "min              2022-01-03 00:00:00   -74.035000     1.000000    1.000000\n",
       "25%              2022-08-13 00:00:00   181.441000   488.500000   52.000000\n",
       "50%              2023-03-22 12:00:00   259.233000   636.500000   59.000000\n",
       "75%              2023-11-01 12:00:00   556.146500   862.750000   67.000000\n",
       "max              2024-06-18 00:00:00  7589.803000  4577.000000  124.000000\n",
       "std                              NaN  1023.765432   634.598299   16.194356"
      ]
     },
     "execution_count": 3,
     "metadata": {},
     "output_type": "execute_result"
    }
   ],
   "source": [
    "data.describe()"
   ]
  },
  {
   "cell_type": "code",
   "execution_count": 4,
   "metadata": {},
   "outputs": [
    {
     "name": "stdout",
     "output_type": "stream",
     "text": [
      "<class 'pandas.core.frame.DataFrame'>\n",
      "RangeIndex: 614 entries, 0 to 613\n",
      "Data columns (total 4 columns):\n",
      " #   Column     Non-Null Count  Dtype         \n",
      "---  ------     --------------  -----         \n",
      " 0   date       614 non-null    datetime64[ns]\n",
      " 1   ilosc      614 non-null    float64       \n",
      " 2   articles   614 non-null    int64         \n",
      " 3   customers  614 non-null    int64         \n",
      "dtypes: datetime64[ns](1), float64(1), int64(2)\n",
      "memory usage: 19.3 KB\n"
     ]
    }
   ],
   "source": [
    "data.info()"
   ]
  },
  {
   "cell_type": "markdown",
   "metadata": {},
   "source": [
    "# Feature Engineering"
   ]
  },
  {
   "cell_type": "code",
   "execution_count": 6,
   "metadata": {},
   "outputs": [
    {
     "name": "stdout",
     "output_type": "stream",
     "text": [
      "        date  year  month  day  day_of_year  week_of_year  quarter  season\n",
      "0 2022-01-03  2022      1    3            3             1        1       1\n",
      "1 2022-01-04  2022      1    4            4             1        1       1\n",
      "2 2022-01-05  2022      1    5            5             1        1       1\n",
      "3 2022-01-10  2022      1   10           10             2        1       1\n",
      "4 2022-01-11  2022      1   11           11             2        1       1\n"
     ]
    }
   ],
   "source": [
    "# Dodawanie kolumn na podstawie kolumny 'date'\n",
    "data['year'] = data['date'].dt.year\n",
    "data['month'] = data['date'].dt.month\n",
    "data['day'] = data['date'].dt.day\n",
    "data['day_of_year'] = data['date'].dt.dayofyear\n",
    "data['week_of_year'] = data['date'].dt.isocalendar().week\n",
    "data['quarter'] = data['date'].dt.quarter\n",
    "data['season'] = (data['month'] % 12 // 3) + 1\n",
    "\n",
    "# Wyświetlanie wyników\n",
    "print(data[['date', 'year', 'month', 'day', 'day_of_year', 'week_of_year', 'quarter', 'season']].head())\n"
   ]
  },
  {
   "cell_type": "markdown",
   "metadata": {},
   "source": [
    "## Kodowanie cech cyklicznych\n",
    "Nowe cechy czasowe są cykliczne. Na przykład cecha month cyklicznie przechodzi od 1 do 12 w każdym roku.\n",
    "Chociaż różnica między każdym miesiącem zwiększa się o 1 w ciągu roku, między dwoma latami cecha month skacze z 12 (grudzień) na 1 (styczeń). To skutkuje różnicą -11, co może wprowadzać zamieszanie w wielu modelach."
   ]
  },
  {
   "cell_type": "code",
   "execution_count": 13,
   "metadata": {},
   "outputs": [
    {
     "data": {
      "image/png": "[encoded data removed]",
      "text/plain": [
       "<Figure size 2000x300 with 1 Axes>"
      ]
     },
     "metadata": {},
     "output_type": "display_data"
    }
   ],
   "source": [
    "# Automatyczne ustawienie zakresu dat\n",
    "start_date = data['date'].min()\n",
    "end_date = data['date'].max()\n",
    "\n",
    "# Wizualizacja danych\n",
    "f, ax = plt.subplots(nrows=1, ncols=1, figsize=(20, 3))\n",
    "\n",
    "sns.lineplot(x=data['date'], y=data['month'], color='dodgerblue')\n",
    "ax.set_xlim([start_date, end_date])\n",
    "plt.show()"
   ]
  },
  {
   "cell_type": "markdown",
   "metadata": {},
   "source": [
    "Idealnie, chcemy, aby dane reprezentowały tę samą różnicę między dwoma kolejnymi miesiącami, nawet między grudniem a styczniem. Powszechnym rozwiązaniem tego problemu jest zakodowanie cech cyklicznych w dwóch wymiarach za pomocą transformacji sinusowej i cosinusowej."
   ]
  },
  {
   "cell_type": "code",
   "execution_count": 11,
   "metadata": {},
   "outputs": [
    {
     "data": {
      "image/png": "[encoded data removed]",
      "text/plain": [
       "<Figure size 600x600 with 1 Axes>"
      ]
     },
     "metadata": {},
     "output_type": "display_data"
    },
    {
     "data": {
      "text/html": [
       "<div>\n",
       "<style scoped>\n",
       "    .dataframe tbody tr th:only-of-type {\n",
       "        vertical-align: middle;\n",
       "    }\n",
       "\n",
       "    .dataframe tbody tr th {\n",
       "        vertical-align: top;\n",
       "    }\n",
       "\n",
       "    .dataframe thead th {\n",
       "        text-align: right;\n",
       "    }\n",
       "</style>\n",
       "<table border=\"1\" class=\"dataframe\">\n",
       "  <thead>\n",
       "    <tr style=\"text-align: right;\">\n",
       "      <th></th>\n",
       "      <th>date</th>\n",
       "      <th>month_sin</th>\n",
       "      <th>month_cos</th>\n",
       "      <th>day_sin</th>\n",
       "      <th>day_cos</th>\n",
       "      <th>day_of_year_sin</th>\n",
       "      <th>day_of_year_cos</th>\n",
       "      <th>week_of_year_sin</th>\n",
       "      <th>week_of_year_cos</th>\n",
       "      <th>quarter_sin</th>\n",
       "      <th>quarter_cos</th>\n",
       "      <th>season_sin</th>\n",
       "      <th>season_cos</th>\n",
       "    </tr>\n",
       "  </thead>\n",
       "  <tbody>\n",
       "    <tr>\n",
       "      <th>0</th>\n",
       "      <td>2022-01-03</td>\n",
       "      <td>0.5</td>\n",
       "      <td>0.866025</td>\n",
       "      <td>0.587785</td>\n",
       "      <td>0.809017</td>\n",
       "      <td>0.051620</td>\n",
       "      <td>0.998667</td>\n",
       "      <td>0.120208</td>\n",
       "      <td>0.992749</td>\n",
       "      <td>1.0</td>\n",
       "      <td>6.123234e-17</td>\n",
       "      <td>1.0</td>\n",
       "      <td>6.123234e-17</td>\n",
       "    </tr>\n",
       "    <tr>\n",
       "      <th>1</th>\n",
       "      <td>2022-01-04</td>\n",
       "      <td>0.5</td>\n",
       "      <td>0.866025</td>\n",
       "      <td>0.743145</td>\n",
       "      <td>0.669131</td>\n",
       "      <td>0.068802</td>\n",
       "      <td>0.997630</td>\n",
       "      <td>0.120208</td>\n",
       "      <td>0.992749</td>\n",
       "      <td>1.0</td>\n",
       "      <td>6.123234e-17</td>\n",
       "      <td>1.0</td>\n",
       "      <td>6.123234e-17</td>\n",
       "    </tr>\n",
       "    <tr>\n",
       "      <th>2</th>\n",
       "      <td>2022-01-05</td>\n",
       "      <td>0.5</td>\n",
       "      <td>0.866025</td>\n",
       "      <td>0.866025</td>\n",
       "      <td>0.500000</td>\n",
       "      <td>0.085965</td>\n",
       "      <td>0.996298</td>\n",
       "      <td>0.120208</td>\n",
       "      <td>0.992749</td>\n",
       "      <td>1.0</td>\n",
       "      <td>6.123234e-17</td>\n",
       "      <td>1.0</td>\n",
       "      <td>6.123234e-17</td>\n",
       "    </tr>\n",
       "    <tr>\n",
       "      <th>3</th>\n",
       "      <td>2022-01-10</td>\n",
       "      <td>0.5</td>\n",
       "      <td>0.866025</td>\n",
       "      <td>0.866025</td>\n",
       "      <td>-0.500000</td>\n",
       "      <td>0.171293</td>\n",
       "      <td>0.985220</td>\n",
       "      <td>0.238673</td>\n",
       "      <td>0.9711</td>\n",
       "      <td>1.0</td>\n",
       "      <td>6.123234e-17</td>\n",
       "      <td>1.0</td>\n",
       "      <td>6.123234e-17</td>\n",
       "    </tr>\n",
       "    <tr>\n",
       "      <th>4</th>\n",
       "      <td>2022-01-11</td>\n",
       "      <td>0.5</td>\n",
       "      <td>0.866025</td>\n",
       "      <td>0.743145</td>\n",
       "      <td>-0.669131</td>\n",
       "      <td>0.188227</td>\n",
       "      <td>0.982126</td>\n",
       "      <td>0.238673</td>\n",
       "      <td>0.9711</td>\n",
       "      <td>1.0</td>\n",
       "      <td>6.123234e-17</td>\n",
       "      <td>1.0</td>\n",
       "      <td>6.123234e-17</td>\n",
       "    </tr>\n",
       "  </tbody>\n",
       "</table>\n",
       "</div>"
      ],
      "text/plain": [
       "        date  month_sin  month_cos   day_sin   day_cos  day_of_year_sin  \\\n",
       "0 2022-01-03        0.5   0.866025  0.587785  0.809017         0.051620   \n",
       "1 2022-01-04        0.5   0.866025  0.743145  0.669131         0.068802   \n",
       "2 2022-01-05        0.5   0.866025  0.866025  0.500000         0.085965   \n",
       "3 2022-01-10        0.5   0.866025  0.866025 -0.500000         0.171293   \n",
       "4 2022-01-11        0.5   0.866025  0.743145 -0.669131         0.188227   \n",
       "\n",
       "   day_of_year_cos  week_of_year_sin  week_of_year_cos  quarter_sin  \\\n",
       "0         0.998667          0.120208          0.992749          1.0   \n",
       "1         0.997630          0.120208          0.992749          1.0   \n",
       "2         0.996298          0.120208          0.992749          1.0   \n",
       "3         0.985220          0.238673            0.9711          1.0   \n",
       "4         0.982126          0.238673            0.9711          1.0   \n",
       "\n",
       "    quarter_cos  season_sin    season_cos  \n",
       "0  6.123234e-17         1.0  6.123234e-17  \n",
       "1  6.123234e-17         1.0  6.123234e-17  \n",
       "2  6.123234e-17         1.0  6.123234e-17  \n",
       "3  6.123234e-17         1.0  6.123234e-17  \n",
       "4  6.123234e-17         1.0  6.123234e-17  "
      ]
     },
     "execution_count": 11,
     "metadata": {},
     "output_type": "execute_result"
    }
   ],
   "source": [
    "month_in_year = 12\n",
    "data['month_sin'] = np.sin(2*np.pi*data.month/month_in_year)\n",
    "data['month_cos'] = np.cos(2*np.pi*data.month/month_in_year)\n",
    "\n",
    "days_in_month = 30\n",
    "data['day_sin'] = np.sin(2*np.pi*data.day/days_in_month)\n",
    "data['day_cos'] = np.cos(2*np.pi*data.day/days_in_month)\n",
    "\n",
    "days_in_year = 365\n",
    "data['day_of_year_sin'] = np.sin(2*np.pi*data.day_of_year/days_in_year)\n",
    "data['day_of_year_cos'] = np.cos(2*np.pi*data.day_of_year/days_in_year)\n",
    "\n",
    "weeks_in_year = 52.1429\n",
    "data['week_of_year_sin'] = np.sin(2*np.pi*data.week_of_year/weeks_in_year)\n",
    "data['week_of_year_cos'] = np.cos(2*np.pi*data.week_of_year/weeks_in_year)\n",
    "\n",
    "quarters_in_year = 4\n",
    "data['quarter_sin'] = np.sin(2*np.pi*data.quarter/quarters_in_year)\n",
    "data['quarter_cos'] = np.cos(2*np.pi*data.quarter/quarters_in_year)\n",
    "\n",
    "seasons_in_year = 4\n",
    "data['season_sin'] = np.sin(2*np.pi*data.season/seasons_in_year)\n",
    "data['season_cos'] = np.cos(2*np.pi*data.season/seasons_in_year)\n",
    "\n",
    "\n",
    "f, ax = plt.subplots(nrows=1, ncols=1, figsize=(6, 6))\n",
    "\n",
    "sns.scatterplot(x=data.month_sin, y=data.month_cos, color='dodgerblue')\n",
    "plt.title('Cyclical Encoding of Months')\n",
    "plt.show()\n",
    "\n",
    "\n",
    "data[['date', 'month_sin', 'month_cos', 'day_sin', 'day_cos', 'day_of_year_sin', 'day_of_year_cos', \n",
    "            'week_of_year_sin', 'week_of_year_cos', 'quarter_sin', 'quarter_cos', 'season_sin', 'season_cos']].head()"
   ]
  },
  {
   "cell_type": "code",
   "execution_count": 14,
   "metadata": {},
   "outputs": [
    {
     "data": {
      "image/png": "[encoded data removed]",
      "text/plain": [
       "<Figure size 2000x300 with 1 Axes>"
      ]
     },
     "metadata": {},
     "output_type": "display_data"
    }
   ],
   "source": [
    "# Automatyczne ustawienie zakresu dat\n",
    "start_date = data['date'].min()\n",
    "end_date = data['date'].max()\n",
    "\n",
    "# Wizualizacja danych\n",
    "f, ax = plt.subplots(nrows=1, ncols=1, figsize=(20, 3))\n",
    "\n",
    "sns.lineplot(x=data['date'], y=data['month_sin'], color='dodgerblue')\n",
    "ax.set_xlim([start_date, end_date])\n",
    "plt.show()"
   ]
  },
  {
   "cell_type": "markdown",
   "metadata": {},
   "source": [
    "## Dodanie kolumn według wzorca danych"
   ]
  },
  {
   "cell_type": "code",
   "execution_count": 28,
   "metadata": {},
   "outputs": [
    {
     "name": "stdout",
     "output_type": "stream",
     "text": [
      "        date  is_last_days  is_first_days  is_weak_month  is_saturday\n",
      "0 2022-01-03             0              1              0            0\n",
      "1 2022-01-04             0              1              0            0\n",
      "2 2022-01-05             0              1              0            0\n",
      "3 2022-01-10             0              0              0            0\n",
      "4 2022-01-11             0              0              0            0\n",
      "--------------------------------------------------\n",
      "2\n"
     ]
    }
   ],
   "source": [
    "# Dodanie dni według wzorca\n",
    "data['is_last_days'] = data['day'].isin([28, 29, 30]).astype(int)\n",
    "\n",
    "# Dodanie dni według wzorca\n",
    "data['is_first_days'] = data['day'].isin([1, 2, 3, 4, 5]).astype(int)\n",
    "\n",
    "# Dodanie miesięcy według wzorca\n",
    "data['is_weak_month'] = data['month'].isin([7, 8, 10, 12]).astype(int)\n",
    "\n",
    "# Flaga na sobote\n",
    "data['is_saturday'] = (data['date'].dt.weekday == 5).astype(int)\n",
    "\n",
    "print(data[['date', 'is_last_days', 'is_first_days', 'is_weak_month', 'is_saturday']].head(5))\n",
    "\n",
    "# policz ile jest sobót w danych\n",
    "print(50*'-')\n",
    "print(data['is_saturday'].sum())"
   ]
  },
  {
   "cell_type": "markdown",
   "metadata": {},
   "source": [
    "## Zastąpienie wartości ujemnych średnią wartością"
   ]
  },
  {
   "cell_type": "code",
   "execution_count": 33,
   "metadata": {},
   "outputs": [],
   "source": [
    "mean_value = data['ilosc'][data['ilosc'] > 0].mean()\n",
    "data.loc[data['ilosc'] <= 0, 'ilosc'] = mean_value"
   ]
  },
  {
   "cell_type": "markdown",
   "metadata": {},
   "source": [
    "## Transformacje danych\n",
    "### Logarytmowanie i standaryzacja\n",
    "\n",
    "Logarytmowanie i standaryzacja są powszechnymi metodami przekształcania danych, aby uczynić je bardziej odpowiednimi do modelowania. Logarytmowanie jest szczególnie skuteczne, gdy dane mają dużą rozpiętość wartości, natomiast standaryzacja przekształca dane tak, aby miały średnią równą 0 i odchylenie standardowe równe 1.\n",
    "\n",
    "* Logarytmowanie: Przekształcimy zmienną ilosc przy użyciu logarytmu naturalnego, co może pomóc w zmniejszeniu wpływu dużych wartości odstających.\n",
    "\n",
    "* Standaryzacja: Następnie wystandaryzujemy przekształconą zmienną, aby ustabilizować jej wariancję."
   ]
  },
  {
   "cell_type": "code",
   "execution_count": 43,
   "metadata": {},
   "outputs": [
    {
     "name": "stdout",
     "output_type": "stream",
     "text": [
      "             ilosc   ilosc_log  ilosc_log_std\n",
      "count   614.000000  614.000000   6.140000e+02\n",
      "mean    639.469485    5.833309  -5.786179e-18\n",
      "std    1023.360409    1.035608   1.000815e+00\n",
      "min       0.221000    0.199670  -5.444369e+00\n",
      "25%     182.104000    5.210054  -6.023155e-01\n",
      "50%     260.117000    5.564965  -2.593281e-01\n",
      "75%     556.920000    6.324216   4.744141e-01\n",
      "max    7589.803000    8.934693   2.997189e+00\n",
      "Wyniki testu ADF dla ilosc_log_std:\n",
      "Statystyka ADF: -6.063788864987532\n",
      "Wartość p: 1.1951500570655538e-07\n",
      "Wartości krytyczne:\n",
      "1%: -3.441406876071572\n",
      "5%: -2.866418015869717\n",
      "10%: -2.5693678601956718\n",
      "--------------------------------------------------\n",
      "Wyniki testu ADF dla customers_log_std:\n",
      "Statystyka ADF: -3.9425012696167445\n",
      "Wartość p: 0.0017433978694610312\n",
      "Wartości krytyczne:\n",
      "1%: -3.441277537487585\n",
      "5%: -2.8663610578661083\n",
      "10%: -2.5693375106104357\n",
      "--------------------------------------------------\n",
      "Wyniki testu ADF dla articles_log_std:\n",
      "Statystyka ADF: -23.529396886709236\n",
      "Wartość p: 0.0\n",
      "Wartości krytyczne:\n",
      "1%: -3.4410627157395908\n",
      "5%: -2.8662664495424255\n",
      "10%: -2.5692871001333266\n",
      "--------------------------------------------------\n"
     ]
    }
   ],
   "source": [
    "from sklearn.preprocessing import StandardScaler\n",
    "from statsmodels.tsa.stattools import adfuller\n",
    "\n",
    "# Logarytmowanie zmiennej 'ilosc'\n",
    "data['ilosc_log'] = np.log(data['ilosc'] + 1)  # Dodanie 1, aby uniknąć log(0)\n",
    "\n",
    "# Standaryzacja zmiennej 'ilosc_log'\n",
    "scaler = StandardScaler()\n",
    "data['ilosc_log_std'] = scaler.fit_transform(data[['ilosc_log']])\n",
    "\n",
    "\n",
    "# Logarytmowanie zmiennej 'ilosc'\n",
    "data['customers_log'] = np.log(data['customers'] + 1)  # Dodanie 1, aby uniknąć log(0)\n",
    "\n",
    "# Standaryzacja zmiennej 'ilosc_log'\n",
    "scaler = StandardScaler()\n",
    "data['customers_log_std'] = scaler.fit_transform(data[['customers_log']])\n",
    "\n",
    "# Logarytmowanie zmiennej 'ilosc'\n",
    "data['articles_log'] = np.log(data['articles'] + 1)  # Dodanie 1, aby uniknąć log(0)\n",
    "\n",
    "# Standaryzacja zmiennej 'ilosc_log'\n",
    "scaler = StandardScaler()\n",
    "data['articles_log_std'] = scaler.fit_transform(data[['articles_log']])\n",
    "\n",
    "# Wyświetlenie podstawowych statystyk po transformacji\n",
    "print(data[['ilosc', 'ilosc_log', 'ilosc_log_std']].describe())\n",
    "\n",
    "# Test stacjonarności (ADF Test)\n",
    "\n",
    "from statsmodels.tsa.stattools import adfuller\n",
    "\n",
    "# Funkcja do przeprowadzenia testu ADF i wyświetlenia wyników\n",
    "def adfuller_test(series, column_name):\n",
    "    result = adfuller(series)\n",
    "    adf_stat = result[0]\n",
    "    p_val = result[1]\n",
    "    crit_values = result[4]\n",
    "    \n",
    "    print(f\"Wyniki testu ADF dla {column_name}:\")\n",
    "    print(f\"Statystyka ADF: {adf_stat}\")\n",
    "    print(f\"Wartość p: {p_val}\")\n",
    "    print(\"Wartości krytyczne:\")\n",
    "    for key, value in crit_values.items():\n",
    "        print(f\"{key}: {value}\")\n",
    "    print(\"-\" * 50)\n",
    "\n",
    "# Przeprowadź test ADF dla każdej z kolumn\n",
    "for column in ['ilosc_log_std', 'customers_log_std', 'articles_log_std']:\n",
    "    adfuller_test(data[column].values, column)"
   ]
  },
  {
   "cell_type": "markdown",
   "metadata": {},
   "source": [
    "#### Funkcja eksponencjalna\n",
    "Po przekształceniu danych logarytmem, prognozy będą w skali logarytmicznej. Aby uzyskać prognozy w oryginalnej skali danych, należy przekształcić prognozowane wartości z powrotem poprzez eksponencjalizację. Jest to kluczowe dla interpretacji wyników w kontekście oryginalnych danych.\n",
    "\n",
    "Kroki:\n",
    "* Przekształcenie prognoz z powrotem do oryginalnej skali: Używamy funkcji eksponencjalnej.\n",
    "* Porównanie przekształconych prognoz z oryginalnymi danymi."
   ]
  },
  {
   "cell_type": "code",
   "execution_count": null,
   "metadata": {},
   "outputs": [],
   "source": [
    "# Najpierw musimy odwrócić standaryzację\n",
    "data['ilosc_log_reversed'] = scaler.inverse_transform(data[['ilosc_log_std']])\n",
    "\n",
    "# Następnie musimy odwrócić logarytmowanie\n",
    "data['ilosc_reversed'] = np.exp(data['ilosc_log_reversed']) - 1"
   ]
  },
  {
   "cell_type": "markdown",
   "metadata": {},
   "source": [
    "## Zmienne odstające"
   ]
  },
  {
   "cell_type": "code",
   "execution_count": 40,
   "metadata": {},
   "outputs": [
    {
     "name": "stdout",
     "output_type": "stream",
     "text": [
      "          Date  Outlier Value\n",
      "11  2022-01-20       2824.822\n",
      "19  2022-01-31       3785.288\n",
      "38  2022-02-25       5276.154\n",
      "52  2022-03-17       3993.249\n",
      "61  2022-03-30       3475.225\n",
      "81  2022-04-28       4507.516\n",
      "82  2022-04-29       2712.775\n",
      "101 2022-05-30       3585.725\n",
      "120 2022-06-28       4966.975\n",
      "144 2022-07-30       5023.109\n",
      "164 2022-08-30       4435.912\n",
      "187 2022-09-30       3410.914\n",
      "207 2022-10-28       5648.981\n",
      "227 2022-11-29       7426.484\n",
      "228 2022-11-30       4232.592\n",
      "265 2023-01-24       3757.663\n",
      "287 2023-02-23       5507.762\n",
      "309 2023-03-27       5631.080\n",
      "330 2023-04-26       6132.750\n",
      "352 2023-05-30       3185.715\n",
      "372 2023-06-29       2716.532\n",
      "388 2023-07-21       3627.494\n",
      "415 2023-08-30       2806.037\n",
      "435 2023-09-27       2783.716\n",
      "457 2023-10-27       2753.881\n",
      "478 2023-11-29       7589.803\n",
      "489 2023-12-14       2944.383\n",
      "517 2024-01-29       2780.843\n",
      "519 2024-01-31       3689.816\n",
      "540 2024-02-29       5476.822\n",
      "560 2024-03-28       4616.911\n",
      "581 2024-04-29       6091.644\n",
      "600 2024-05-29       3265.496\n"
     ]
    }
   ],
   "source": [
    "# Funkcja do wykrywania wartości odstających\n",
    "def detect_outliers(data, threshold=3):\n",
    "    mean = np.mean(data)\n",
    "    std = np.std(data)\n",
    "    outliers = []\n",
    "    for i in range(len(data)):\n",
    "        z_score = (data[i] - mean) / std\n",
    "        if np.abs(z_score) > threshold:\n",
    "            outliers.append(i)\n",
    "    return outliers\n",
    "\n",
    "# Wykrywanie wartości odstających w zestawie treningowym\n",
    "outliers_indices = detect_outliers(data['ilosc'], 2)\n",
    "\n",
    "# Wyświetlenie dat, w których występują wartości odstające\n",
    "outliers_dates = data.iloc[outliers_indices]['date']\n",
    "##print(f\"Dates with outliers: {outliers_dates}\")\n",
    "\n",
    "# Wyświetlenie wartości odstających\n",
    "outliers_values = data.iloc[outliers_indices]['ilosc']\n",
    "##print(f\"Outlier values: {outliers_values}\")\n",
    "\n",
    "# Łączenie dat z wartościami odstającymi w jednym DataFrame\n",
    "outliers_info = pd.DataFrame({\n",
    "    'Date': outliers_dates,\n",
    "    'Outlier Value': outliers_values\n",
    "})\n",
    "print(outliers_info)"
   ]
  },
  {
   "cell_type": "code",
   "execution_count": null,
   "metadata": {},
   "outputs": [],
   "source": [
    "# Wybór kolumn do stworzenia histogramów\n",
    "columns_to_plot = ['ilosc', 'ilosc_imputacja']\n",
    "\n",
    "# Tworzenie histogramów dla wybranych kolumn\n",
    "plt.figure(figsize=(15, 10))\n",
    "for i, column in enumerate(columns_to_plot, 1):\n",
    "    plt.subplot(3, 2, i)\n",
    "    sns.histplot(data[column], bins=30, kde=True)\n",
    "    plt.title(f'Histogram dla {column}')\n",
    "    plt.xlabel(column)\n",
    "    plt.ylabel('Częstotliwość')\n",
    "\n",
    "plt.tight_layout()\n",
    "plt.show()"
   ]
  },
  {
   "cell_type": "markdown",
   "metadata": {},
   "source": [
    "## Zapis danych"
   ]
  },
  {
   "cell_type": "code",
   "execution_count": null,
   "metadata": {},
   "outputs": [],
   "source": []
  },
  {
   "cell_type": "code",
   "execution_count": 44,
   "metadata": {},
   "outputs": [],
   "source": [
    "## Zapisanie danych po tranformacji do pliku CSV\n",
    "data.to_csv('Prognoza_transformed.csv', index=False)"
   ]
  }
 ],
 "metadata": {
  "kernelspec": {
   "display_name": "Python 3",
   "language": "python",
   "name": "python3"
  },
  "language_info": {
   "codemirror_mode": {
    "name": "ipython",
    "version": 3
   },
   "file_extension": ".py",
   "mimetype": "text/x-python",
   "name": "python",
   "nbconvert_exporter": "python",
   "pygments_lexer": "ipython3",
   "version": "3.12.4"
  }
 },
 "nbformat": 4,
 "nbformat_minor": 2
}
